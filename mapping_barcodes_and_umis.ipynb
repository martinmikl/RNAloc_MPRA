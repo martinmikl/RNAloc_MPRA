{
 "cells": [
  {
   "cell_type": "code",
   "execution_count": 1,
   "metadata": {},
   "outputs": [],
   "source": [
    "import pandas as pd\n",
    "from Bio import SeqIO\n",
    "import matplotlib.pyplot as plt\n",
    "import seaborn as sns\n",
    "import numpy as np\n",
    "from scipy.stats import pearsonr, spearmanr, fisher_exact, chi2_contingency\n",
    "import math\n",
    "import gzip\n",
    "import pickle\n",
    "import os\n",
    "import gzip"
   ]
  },
  {
   "cell_type": "code",
   "execution_count": 11,
   "metadata": {},
   "outputs": [],
   "source": [
    "library=pd.read_csv('./dataframes/library_varseq_FINAL.csv', index_col='Unnamed: 0')\n",
    "\n",
    "libdfbarcodes=library.barcode.to_dict()\n",
    "readcounts={idx:0 for idx in libdfbarcodes.keys()}\n",
    "readids={idx:[] for idx in libdfbarcodes.keys()}"
   ]
  },
  {
   "cell_type": "code",
   "execution_count": 36,
   "metadata": {},
   "outputs": [],
   "source": [
    "def map_barcodes(libdfbarcodes, fastqr2, outfolder, barcodelength=None):\n",
    "    if isinstance(libdfbarcodes, pd.Series):\n",
    "        libbcdict=libdfbarcodes.to_dict()\n",
    "    elif type(libdfbarcodes)==dict:\n",
    "        libbcdict=libdfbarcodes\n",
    "    else:\n",
    "        print('The input is neither a dict nor a pandas Series.')\n",
    "        exit()\n",
    "        \n",
    "    if os.path.isdir(outfolder)==False:\n",
    "        os.mkdir(outfolder)\n",
    "        \n",
    "    samplename=fastqr2.split('/')[-1].split('.')[0]\n",
    "    \n",
    "    bcindexdict={value[:barcodelength]:key for key, value in libbcdict.items()}\n",
    "\n",
    "    readcounts={idx:0 for idx in libdfbarcodes.keys()}\n",
    "    readids={idx:[] for idx in libdfbarcodes.keys()}\n",
    "    \n",
    "    readcount=0\n",
    "    unmappedreadcount=0\n",
    "    unmappedreadseqs=[]\n",
    "    \n",
    "    with gzip.open(fastqr2, \"rt\") as handle:\n",
    "        for record in SeqIO.parse(handle, 'fastq'):\n",
    "            readcount+=1\n",
    "            primerstart=record.seq.find('GAGCGCACCCGTCCGAGC')\n",
    "            if primerstart==-1:\n",
    "                unmappedreadcount+=1\n",
    "                unmappedreadseqs.append(record.seq)\n",
    "                pass\n",
    "            else:\n",
    "                if barcodelength>0:\n",
    "                    readbc=record.seq[primerstart+18+12+16:primerstart+18+12+16+barcodelength]\n",
    "                    if len(readbc)<barcodelength:\n",
    "                        unmappedreadcount+=1\n",
    "                        unmappedreadseqs.append(record.seq)\n",
    "                        pass\n",
    "\n",
    "                else:\n",
    "                    readbc=record.seq[primerstart+18+12+16:primerstart+18+12+16+14]\n",
    "                    if len(readbc)<14:\n",
    "                        unmappedreadcount+=1\n",
    "                        unmappedreadseqs.append(record.seq)\n",
    "                        pass\n",
    "\n",
    "                if readbc in bcindexdict.keys():\n",
    "                    readcounts[bcindexdict[readbc]]+=1\n",
    "                    readids[bcindexdict[readbc]].append(record.id)\n",
    "                else:\n",
    "                    unmappedreadcount+=1\n",
    "                    unmappedreadseqs.append(record.seq)\n",
    "                    pass\n",
    "\n",
    " #   print(str(unmappedreadcount) + ' reads out of '+str(readcount)+' could not be mapped.')\n",
    "    \n",
    "    with open(outfolder+'/'+samplename+'__readcounts.pkl', 'wb') as out:\n",
    "        pickle.dump(readcounts, out, protocol=pickle.HIGHEST_PROTOCOL)\n",
    "    with open(outfolder+'/'+samplename+'__readids.pkl', 'wb') as out:\n",
    "        pickle.dump(readids, out, protocol=pickle.HIGHEST_PROTOCOL)\n",
    "\n",
    "    with open(outfolder+'/'+samplename+'__unmappedreadseqs.pkl', 'wb') as out:\n",
    "        pickle.dump(unmappedreadseqs, out, protocol=pickle.HIGHEST_PROTOCOL)\n",
    "\n",
    "    \n",
    "    return readcount, unmappedreadcount\n",
    "\n"
   ]
  },
  {
   "cell_type": "code",
   "execution_count": 41,
   "metadata": {
    "scrolled": true
   },
   "outputs": [],
   "source": [
    "readcount, unmappedreadcount=map_barcodes(libdfbarcodes, \n",
    "                                          './example_data/examplefastqfile_R2_001.fastq.gz', \n",
    "                                          './dataframes/barcodemapping_out', \n",
    "                                          barcodelength=12)\n"
   ]
  },
  {
   "cell_type": "code",
   "execution_count": 42,
   "metadata": {},
   "outputs": [
    {
     "name": "stdout",
     "output_type": "stream",
     "text": [
      "total number of reads: 250\n",
      "number of unmapped reads: 57\n",
      "percentage of unmapped reads: 22.8\n"
     ]
    }
   ],
   "source": [
    "print('total number of reads: ' + str(readcount) +\n",
    "      '\\nnumber of unmapped reads: ' + str(unmappedreadcount) + \n",
    "      '\\npercentage of unmapped reads: ' + str((unmappedreadcount/readcount)*100))"
   ]
  },
  {
   "cell_type": "code",
   "execution_count": 46,
   "metadata": {},
   "outputs": [],
   "source": [
    "def get_umis(readids, r1fastq, rtprimer):\n",
    "    umis={idx:[] for idx in readids.keys()}\n",
    "    \n",
    "    readids_inv={}\n",
    "    for key in readids.keys():\n",
    "        val=readids[key]\n",
    "        if type(val)!=int:\n",
    "            readids_inv.update({valn:key for valn in val})\n",
    "        \n",
    "    with gzip.open(r1fastq, \"rt\") as f:\n",
    "        for record in SeqIO.parse(f, 'fastq'):\n",
    "            if (record.id in readids_inv.keys())&(record.id!=0):\n",
    "                if rtprimer=='dt':\n",
    "                    umis[readids_inv[record.id]].append(str(record.seq[6:18]))\n",
    "                elif rtprimer=='utr1':\n",
    "                    startpos=record.seq.find('CAAACAACA')\n",
    "                    if startpos>9:\n",
    "                        umis[readids_inv[record.id]].append(str(record.seq[1:10]))\n",
    "                    \n",
    "    umisdf=pd.DataFrame()\n",
    "    umiss=pd.Series(umis)\n",
    "    umiss=umiss.drop([x for x in umiss.index if type(x)!=int])\n",
    "    umisdf['all_umis']=umiss\n",
    "    umisdf['n_all_umis']=umisdf.all_umis.apply(lambda x: len(x))\n",
    "    umisdf['n_unique_umis']=umisdf.all_umis.apply(lambda x: len(pd.Series(x).unique()))\n",
    "    umisdf.to_pickle('./dataframes/barcodemapping_out/'+r1fastq.split('/')[-1].split('.')[0]+'_umis.pkl')\n",
    "    return umisdf.n_all_umis.sum(), umisdf.n_unique_umis.sum()\n"
   ]
  },
  {
   "cell_type": "code",
   "execution_count": 47,
   "metadata": {},
   "outputs": [
    {
     "name": "stderr",
     "output_type": "stream",
     "text": [
      "/Users/martin/opt/anaconda3/lib/python3.7/site-packages/ipykernel_launcher.py:25: DeprecationWarning: The default dtype for empty Series will be 'object' instead of 'float64' in a future version. Specify a dtype explicitly to silence this warning.\n"
     ]
    }
   ],
   "source": [
    "for filename in os.listdir('./dataframes/barcodemapping_out'):\n",
    "    if ('__readids' in filename):\n",
    "        with open('./dataframes/barcodemapping_out/'+filename, 'rb') as out:\n",
    "            readids=pickle.load(out)\n",
    "\n",
    "        n_all_umis, n_unique_umis = get_umis(readids, \n",
    "            './example_data/'+filename.split('R2')[0]+'R1_001.fastq.gz', \n",
    "                         'dt')\n",
    "        with open('./dataframes/barcodemapping_out/umicount_summary.csv', 'a') as summaryout:\n",
    "            summaryout.write(filename+','+str(n_all_umis)+','+str(n_unique_umis)+'\\n')\n",
    "            \n"
   ]
  },
  {
   "cell_type": "code",
   "execution_count": 48,
   "metadata": {},
   "outputs": [],
   "source": [
    "allcounts_example=pd.DataFrame()\n",
    "umicounts_example=pd.DataFrame()\n",
    "\n",
    "for filename in os.listdir('./dataframes/barcodemapping_out'):\n",
    "    if ('_umis.pkl' in filename):\n",
    "        df_to_append=pd.read_pickle('./dataframes/barcodemapping_out/'+filename)\n",
    "\n",
    "        colname=filename.split('_')[0]\n",
    "\n",
    "        if colname in umicounts_example.columns:\n",
    "            umicounts_CADdeg[colname]=umicounts_CADdeg[colname]+df_to_append['n_unique_umis']\n",
    "            umicounts_example[colname]=allcounts_CADdeg[colname]+df_to_append['n_all_umis']\n",
    "        else:\n",
    "            umicounts_example[colname]=df_to_append['n_unique_umis']\n",
    "            umicounts_example.rename(columns={'n_unique_umis':colname}, inplace=True)\n",
    "            allcounts_example[colname]=df_to_append['n_all_umis']\n",
    "            allcounts_example.rename(columns={'n_all_umis':colname}, inplace=True)\n",
    "            "
   ]
  },
  {
   "cell_type": "code",
   "execution_count": 50,
   "metadata": {},
   "outputs": [
    {
     "data": {
      "text/html": [
       "<div>\n",
       "<style scoped>\n",
       "    .dataframe tbody tr th:only-of-type {\n",
       "        vertical-align: middle;\n",
       "    }\n",
       "\n",
       "    .dataframe tbody tr th {\n",
       "        vertical-align: top;\n",
       "    }\n",
       "\n",
       "    .dataframe thead th {\n",
       "        text-align: right;\n",
       "    }\n",
       "</style>\n",
       "<table border=\"1\" class=\"dataframe\">\n",
       "  <thead>\n",
       "    <tr style=\"text-align: right;\">\n",
       "      <th></th>\n",
       "      <th>examplefastqfile</th>\n",
       "    </tr>\n",
       "  </thead>\n",
       "  <tbody>\n",
       "    <tr>\n",
       "      <th>10</th>\n",
       "      <td>1</td>\n",
       "    </tr>\n",
       "    <tr>\n",
       "      <th>33</th>\n",
       "      <td>2</td>\n",
       "    </tr>\n",
       "    <tr>\n",
       "      <th>34</th>\n",
       "      <td>1</td>\n",
       "    </tr>\n",
       "    <tr>\n",
       "      <th>150</th>\n",
       "      <td>1</td>\n",
       "    </tr>\n",
       "    <tr>\n",
       "      <th>420</th>\n",
       "      <td>1</td>\n",
       "    </tr>\n",
       "    <tr>\n",
       "      <th>...</th>\n",
       "      <td>...</td>\n",
       "    </tr>\n",
       "    <tr>\n",
       "      <th>13241</th>\n",
       "      <td>1</td>\n",
       "    </tr>\n",
       "    <tr>\n",
       "      <th>13344</th>\n",
       "      <td>1</td>\n",
       "    </tr>\n",
       "    <tr>\n",
       "      <th>13353</th>\n",
       "      <td>1</td>\n",
       "    </tr>\n",
       "    <tr>\n",
       "      <th>13657</th>\n",
       "      <td>1</td>\n",
       "    </tr>\n",
       "    <tr>\n",
       "      <th>13784</th>\n",
       "      <td>1</td>\n",
       "    </tr>\n",
       "  </tbody>\n",
       "</table>\n",
       "<p>191 rows × 1 columns</p>\n",
       "</div>"
      ],
      "text/plain": [
       "       examplefastqfile\n",
       "10                    1\n",
       "33                    2\n",
       "34                    1\n",
       "150                   1\n",
       "420                   1\n",
       "...                 ...\n",
       "13241                 1\n",
       "13344                 1\n",
       "13353                 1\n",
       "13657                 1\n",
       "13784                 1\n",
       "\n",
       "[191 rows x 1 columns]"
      ]
     },
     "execution_count": 50,
     "metadata": {},
     "output_type": "execute_result"
    }
   ],
   "source": [
    "umicounts_example[umicounts_example.examplefastqfile>0]"
   ]
  },
  {
   "cell_type": "code",
   "execution_count": 51,
   "metadata": {},
   "outputs": [],
   "source": [
    "allcounts_example.to_pickle('./dataframes/allcounts_example.pkl')\n",
    "umicounts_example.to_pickle('./dataframes/umicounts_example.pkl')\n"
   ]
  },
  {
   "cell_type": "code",
   "execution_count": null,
   "metadata": {},
   "outputs": [],
   "source": []
  }
 ],
 "metadata": {
  "kernelspec": {
   "display_name": "Python 3",
   "language": "python",
   "name": "python3"
  },
  "language_info": {
   "codemirror_mode": {
    "name": "ipython",
    "version": 3
   },
   "file_extension": ".py",
   "mimetype": "text/x-python",
   "name": "python",
   "nbconvert_exporter": "python",
   "pygments_lexer": "ipython3",
   "version": "3.7.6"
  }
 },
 "nbformat": 4,
 "nbformat_minor": 4
}
